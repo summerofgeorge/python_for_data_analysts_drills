{
  "nbformat": 4,
  "nbformat_minor": 0,
  "metadata": {
    "colab": {
      "name": "dictionaries-solution.ipynb",
      "version": "0.3.2",
      "provenance": []
    },
    "kernelspec": {
      "name": "python3",
      "display_name": "Python 3"
    }
  },
  "cells": [
    {
      "metadata": {
        "id": "JnkHAxK86PRq",
        "colab_type": "code",
        "colab": {}
      },
      "cell_type": "code",
      "source": [
        "# 1. multiple_modes\n",
        "\n",
        "def modes(data):\n",
        "\n",
        "    # Empty dict we'll use to store item counts.\n",
        "    counts = {}\n",
        "\n",
        "    # Populate the dict.\n",
        "    for value in data:\n",
        "        if value in counts:\n",
        "            counts[value] += 1\n",
        "        else:\n",
        "            counts[value] = 1\n",
        "\n",
        "    # Find the number of times the mode appears.\n",
        "    max_occurrence = max(counts.values())\n",
        "\n",
        "    # Short-circuit if there is no mode.\n",
        "    min_occurrence = min(counts.values())\n",
        "    if max_occurrence == min_occurrence:\n",
        "        return []\n",
        "\n",
        "    # Initialize an empty list to populate and return.\n",
        "    result = []\n",
        "    for key in counts.keys():\n",
        "        if counts[key] == max_occurrence:\n",
        "            result.append(key)\n",
        "\n",
        "    return sorted(result)"
      ],
      "execution_count": 0,
      "outputs": []
    },
    {
      "metadata": {
        "id": "AQQ0scdQ6Yks",
        "colab_type": "code",
        "colab": {}
      },
      "cell_type": "code",
      "source": [
        "# 2. order_filler\n",
        "\n",
        "def fillable(stock, merch, n):\n",
        "    try:\n",
        "        return stock[merch] >= n\n",
        "    except KeyError:\n",
        "        return False"
      ],
      "execution_count": 0,
      "outputs": []
    },
    {
      "metadata": {
        "id": "RmoDg0K46atZ",
        "colab_type": "code",
        "colab": {}
      },
      "cell_type": "code",
      "source": [
        "# 3. user_contacts\n",
        "\n",
        "def user_contacts(data):\n",
        "    result = {}\n",
        "    for user in data:\n",
        "        name = user[0]\n",
        "        try:\n",
        "            zip = user[1]\n",
        "        except IndexError:\n",
        "            zip = None\n",
        "        result[name] = zip\n",
        "    return result"
      ],
      "execution_count": 0,
      "outputs": []
    }
  ]
}