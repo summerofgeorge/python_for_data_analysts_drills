{
  "nbformat": 4,
  "nbformat_minor": 0,
  "metadata": {
    "colab": {
      "name": "Lists - drill solutions.ipynb",
      "version": "0.3.2",
      "provenance": []
    },
    "kernelspec": {
      "name": "python3",
      "display_name": "Python 3"
    }
  },
  "cells": [
    {
      "metadata": {
        "id": "ZyKSo6KD5q9k",
        "colab_type": "code",
        "colab": {}
      },
      "cell_type": "code",
      "source": [
        "# 1. grade_calculator\n",
        "\n",
        "def calculate_grade(scores):\n",
        "    total = 0\n",
        "    for score in scores:\n",
        "        total += score\n",
        "    mean_score = total / len(scores)\n",
        "\n",
        "    if mean_score >= 90:\n",
        "        return \"A\"\n",
        "    elif mean_score >= 80:\n",
        "        return \"B\"\n",
        "    elif mean_score >= 70:\n",
        "        return \"C\"\n",
        "    elif mean_score >= 60:\n",
        "        return \"D\"\n",
        "    else:\n",
        "        return \"F\""
      ],
      "execution_count": 0,
      "outputs": []
    },
    {
      "metadata": {
        "id": "at22k1Vv5x-l",
        "colab_type": "code",
        "colab": {}
      },
      "cell_type": "code",
      "source": [
        "# 2. inverse_slicer\n",
        "\n",
        "def inverse_slice(items, a, b):\n",
        "    return items[:a] + items[b:]"
      ],
      "execution_count": 0,
      "outputs": []
    },
    {
      "metadata": {
        "id": "YC7uwRqG50oR",
        "colab_type": "code",
        "colab": {}
      },
      "cell_type": "code",
      "source": [
        "# 3. list_of_lists\n",
        "\n",
        "def process_data(data):\n",
        "    result = 1\n",
        "    differences = []\n",
        "\n",
        "    for sub_list in data:\n",
        "        differences.append(sub_list[0] - sub_list[1])\n",
        "\n",
        "    for difference in differences:\n",
        "        result *= difference\n",
        "\n",
        "    return result"
      ],
      "execution_count": 0,
      "outputs": []
    },
    {
      "metadata": {
        "id": "A9V3Nas453Th",
        "colab_type": "code",
        "colab": {}
      },
      "cell_type": "code",
      "source": [
        "# 4. longest_word\n",
        "\n",
        "def longest(words):\n",
        "    result = 0\n",
        "    for word in words:\n",
        "        if len(word) > result:\n",
        "            result = len(word)\n",
        "    return result"
      ],
      "execution_count": 0,
      "outputs": []
    }
  ]
}