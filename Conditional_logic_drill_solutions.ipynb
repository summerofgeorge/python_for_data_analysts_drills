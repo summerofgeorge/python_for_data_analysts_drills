{
  "nbformat": 4,
  "nbformat_minor": 0,
  "metadata": {
    "colab": {
      "name": "Conditional logic drill solutions",
      "version": "0.3.2",
      "provenance": []
    },
    "kernelspec": {
      "name": "python3",
      "display_name": "Python 3"
    }
  },
  "cells": [
    {
      "metadata": {
        "id": "COa-H15h3a5c",
        "colab_type": "code",
        "colab": {}
      },
      "cell_type": "code",
      "source": [
        "# 1. graceful_addition\n",
        "\n",
        "def my_add(a, b):\n",
        "    try:\n",
        "        return a + b\n",
        "    except TypeError:\n",
        "        return None"
      ],
      "execution_count": 0,
      "outputs": []
    },
    {
      "metadata": {
        "id": "IiKYgC0S3jYJ",
        "colab_type": "code",
        "colab": {}
      },
      "cell_type": "code",
      "source": [
        "# 2. Hacking p-hackers\n",
        "\n",
        "def categorize_study(p_value, requirements):\n",
        "    bs_factor = 2 ** (6 - requirements)\n",
        "    product = p_value * bs_factor\n",
        "    \n",
        "    if product < 0.05:\n",
        "        result = \"Fine\"\n",
        "    elif product < 0.15:\n",
        "        result = \"Needs review\"\n",
        "    else:\n",
        "        result = \"Pants on fire\"\n",
        "    \n",
        "    if requirements == 0 and result == \"Fine\":\n",
        "        result = \"Needs review\"\n",
        "        \n",
        "    return result"
      ],
      "execution_count": 0,
      "outputs": []
    },
    {
      "metadata": {
        "id": "9PWIxuds3vb9",
        "colab_type": "code",
        "colab": {}
      },
      "cell_type": "code",
      "source": [
        "# 3. red_and_bumpy\n",
        "\n",
        "def collor_probability(color, texture):\n",
        "    if color == 'green':\n",
        "        if texture == 'bumpy':\n",
        "            result = 1 / 7\n",
        "        else:\n",
        "            result = 1 / 3\n",
        "    elif color == 'yellow':\n",
        "        if texture == 'bumpy':\n",
        "            result = 2 / 7\n",
        "        else:\n",
        "            result = 1 / 3\n",
        "    else:\n",
        "        if texture == 'bumpy':\n",
        "            result = 4 / 7\n",
        "        else:\n",
        "            result = 1 / 3\n",
        "    return str(result)[:4]"
      ],
      "execution_count": 0,
      "outputs": []
    },
    {
      "metadata": {
        "id": "6Q9wWikE3y1v",
        "colab_type": "code",
        "colab": {}
      },
      "cell_type": "code",
      "source": [
        "# 4. traffic_light\n",
        "\n",
        "\n",
        "\n",
        "def update_light(current):\n",
        "    if current == 'green':\n",
        "        return 'yellow'\n",
        "    elif current == 'yellow':\n",
        "        return 'red'\n",
        "    else:\n",
        "        return 'green'"
      ],
      "execution_count": 0,
      "outputs": []
    },
    {
      "metadata": {
        "id": "ryLHN4gW334H",
        "colab_type": "code",
        "colab": {}
      },
      "cell_type": "code",
      "source": [
        "# 5. umbrella_decider\n",
        "\n",
        "def take_umbrella(weather, rain_chance):\n",
        "    a = weather == 'rainy'\n",
        "    b = weather == 'cloudy' and rain_chance > 0.20\n",
        "    c = weather == 'sunny' and rain_chance > 0.50\n",
        "    return bool(a or b or c)"
      ],
      "execution_count": 0,
      "outputs": []
    }
  ]
}